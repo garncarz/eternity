{
 "cells": [
  {
   "cell_type": "markdown",
   "metadata": {},
   "source": [
    "# Quantum computing"
   ]
  },
  {
   "cell_type": "markdown",
   "metadata": {},
   "source": [
    "This is an attempt to use a new method to solve the puzzle, using QC to solve the SAT definition, which is already provided by the thesis."
   ]
  },
  {
   "cell_type": "markdown",
   "metadata": {},
   "source": [
    "## Old solution"
   ]
  },
  {
   "cell_type": "markdown",
   "metadata": {},
   "source": [
    "Using the old solution as much as possible, so it's beneficial to first run `./install.sh` (or manually run what's needed from it; MiniSAT is thankfully still installable from the same URL in the end of 2024). Then, the notebook can be run in this environment:\n",
    "\n",
    "```sh\n",
    "export ETERNITY_BIN=$PWD/bin\n",
    "export ETERNITY_PROGRAMS=$PWD/programs\n",
    "export PATH=$PATH:$ETERNITY_BIN:$ETERNITY_PROGRAMS\n",
    "\n",
    "jupyter notebook --ip=127.0.0.1 --port=8888 --no-browser\n",
    "```"
   ]
  },
  {
   "cell_type": "markdown",
   "metadata": {},
   "source": [
    "Generating a random game (using the minimalistic size $2x2x2$ (width $x$ height $x$ symbols) to go easy on QC) and solving it using MiniSAT:"
   ]
  },
  {
   "cell_type": "code",
   "execution_count": 1,
   "metadata": {},
   "outputs": [
    {
     "name": "stdout",
     "output_type": "stream",
     "text": [
      "start Thu Jan 23 09:38:19 2025\r\n",
      "\r\n",
      "generuji nahodnou plochu... OK\r\n",
      "\r\n",
      "konec Thu Jan 23 09:38:19 2025\r\n",
      "\r\n",
      "trvani 00:00:00\r\n"
     ]
    }
   ],
   "source": [
    "!eternity gen 2 2 2"
   ]
  },
  {
   "cell_type": "code",
   "execution_count": 2,
   "metadata": {},
   "outputs": [],
   "source": [
    "!display.sh area_orig.area area_orig.png\n",
    "!display.sh area.area area.png"
   ]
  },
  {
   "cell_type": "code",
   "execution_count": 3,
   "metadata": {},
   "outputs": [
    {
     "data": {
      "text/markdown": [
       "**Original**"
      ],
      "text/plain": [
       "<IPython.core.display.Markdown object>"
      ]
     },
     "metadata": {},
     "output_type": "display_data"
    },
    {
     "data": {
      "image/png": "[encoded data removed]",
      "text/plain": [
       "<IPython.core.display.Image object>"
      ]
     },
     "metadata": {},
     "output_type": "display_data"
    },
    {
     "data": {
      "text/markdown": [
       "**Randomized (input for solving)**"
      ],
      "text/plain": [
       "<IPython.core.display.Markdown object>"
      ]
     },
     "metadata": {},
     "output_type": "display_data"
    },
    {
     "data": {
      "image/png": "[encoded data removed]",
      "text/plain": [
       "<IPython.core.display.Image object>"
      ]
     },
     "metadata": {},
     "output_type": "display_data"
    }
   ],
   "source": [
    "from IPython.display import display, Image, Markdown\n",
    "\n",
    "display(Markdown('**Original**'), Image('area_orig.png'))\n",
    "display(Markdown('**Randomized (input for solving)**'), Image('area.png'))"
   ]
  },
  {
   "cell_type": "code",
   "execution_count": 4,
   "metadata": {},
   "outputs": [
    {
     "name": "stdout",
     "output_type": "stream",
     "text": [
      "start Thu Jan 23 09:38:20 2025\n",
      "\n",
      "SAT... OK\n",
      "\n",
      "konec Thu Jan 23 09:38:20 2025\n",
      "\n",
      "trvani 00:00:00\n",
      "sat2cnf... findChildren(root)\n",
      "sat2cnf... cnf_write\n",
      "sat2cnf OK\n",
      "minisat\n",
      "==================================[MINISAT]===================================\n",
      "| Conflicts |     ORIGINAL     |              LEARNT              | Progress |\n",
      "|           | Clauses Literals |   Limit Clauses Literals  Lit/Cl |          |\n",
      "==============================================================================\n",
      "|         0 |     708     2712 |     236       0        0     nan |  0.000 % |\n",
      "==============================================================================\n",
      "restarts              : 1\n",
      "conflicts             : 15             (7920 /sec)\n",
      "decisions             : 43             (22703 /sec)\n",
      "propagations          : 626            (330517 /sec)\n",
      "conflict literals     : 50             (3.85 % deleted)\n",
      "Memory used           : 1.68 MB\n",
      "CPU time              : 0.001894 s\n",
      "\n",
      "SATISFIABLE\n",
      "minisat_correct\n",
      "cnf2sat...\n",
      "cnf2sat OK\n",
      "start Thu Jan 23 09:38:20 2025\n",
      "\n",
      "ziskani plochy ze SAT reseni... OK\n",
      "\n",
      "konec Thu Jan 23 09:38:20 2025\n",
      "\n",
      "trvani 00:00:00\n"
     ]
    }
   ],
   "source": [
    "!minisat.sh"
   ]
  },
  {
   "cell_type": "code",
   "execution_count": 5,
   "metadata": {},
   "outputs": [
    {
     "data": {
      "text/markdown": [
       "**Solved the old way**"
      ],
      "text/plain": [
       "<IPython.core.display.Markdown object>"
      ]
     },
     "metadata": {},
     "output_type": "display_data"
    },
    {
     "data": {
      "image/png": "[encoded data removed]",
      "text/plain": [
       "<IPython.core.display.Image object>"
      ]
     },
     "metadata": {},
     "output_type": "display_data"
    }
   ],
   "source": [
    "!display.sh area_sat_result.area area_sat_result.png\n",
    "display(Markdown('**Solved the old way**'), Image('area_sat_result.png'))"
   ]
  },
  {
   "cell_type": "markdown",
   "metadata": {},
   "source": [
    "## Qiskit"
   ]
  },
  {
   "cell_type": "markdown",
   "metadata": {},
   "source": [
    "This library from IBM for QC looks easy to use, already having support for logical formulas built in, although API changes a lot and online examples are often non-working with the current version."
   ]
  },
  {
   "cell_type": "code",
   "execution_count": null,
   "metadata": {},
   "outputs": [],
   "source": [
    "!pip install qiskit[visualization] tweedledum qiskit_aer qiskit-algorithms"
   ]
  },
  {
   "cell_type": "code",
   "execution_count": 7,
   "metadata": {},
   "outputs": [],
   "source": [
    "from qiskit.circuit.library import PhaseOracle\n",
    "from qiskit.primitives import Sampler\n",
    "from qiskit.visualization import plot_histogram\n",
    "from qiskit_aer import Aer\n",
    "from qiskit_algorithms import Grover, AmplificationProblem"
   ]
  },
  {
   "cell_type": "code",
   "execution_count": 8,
   "metadata": {},
   "outputs": [],
   "source": [
    "%%script true\n",
    "# This would unfortunately kill the kernel, overloading it, too big to fit into 8 GB of RAM.\n",
    "oracle = PhaseOracle.from_dimacs_file('cnf.txt')"
   ]
  },
  {
   "cell_type": "markdown",
   "metadata": {},
   "source": [
    "## SymPy"
   ]
  },
  {
   "cell_type": "markdown",
   "metadata": {},
   "source": [
    "A handy library for processing of logical formulas, capable even of solving them."
   ]
  },
  {
   "cell_type": "code",
   "execution_count": null,
   "metadata": {},
   "outputs": [],
   "source": [
    "!pip install sympy"
   ]
  },
  {
   "cell_type": "code",
   "execution_count": 10,
   "metadata": {},
   "outputs": [],
   "source": [
    "# Converting Simplify's prefix notation to a SymPy object\n",
    "# which can easily produce infix notation for QC.\n",
    "\n",
    "import collections\n",
    "import sympy\n",
    "\n",
    "def load_sat():\n",
    "    with open('sat.txt') as f:\n",
    "        sat = f.read()\n",
    "\n",
    "    q = []\n",
    "\n",
    "    def close_last_op(q):\n",
    "        operands = collections.deque()\n",
    "        while q and not isinstance(q[-1], sympy.core.function.FunctionClass):\n",
    "            operands.appendleft(q.pop())\n",
    "\n",
    "        op = q.pop()\n",
    "        q.append(op(*operands))\n",
    "\n",
    "    for word in sat.replace('(', ' ( ').replace(')', ' ) ').split():\n",
    "        match word:\n",
    "            case '(': ...  # no need to do anything here\n",
    "            case ')': close_last_op(q)\n",
    "            case 'AND': q.append(sympy.logic.And)\n",
    "            case 'OR': q.append(sympy.logic.Or)\n",
    "            case 'NOT': q.append(sympy.logic.Not)\n",
    "            case _: q.append(sympy.symbols(word))\n",
    "\n",
    "    assert len(q) == 1\n",
    "    return q[0]\n",
    "\n",
    "statement = load_sat()"
   ]
  },
  {
   "cell_type": "code",
   "execution_count": 11,
   "metadata": {},
   "outputs": [],
   "source": [
    "%%script true\n",
    "# This would also unfortunately kill the kernel.\n",
    "oracle = PhaseOracle(str(statement))"
   ]
  },
  {
   "cell_type": "markdown",
   "metadata": {},
   "source": [
    "## Maximal running example"
   ]
  },
  {
   "cell_type": "markdown",
   "metadata": {},
   "source": [
    "So what's the biggest example which can be simulated on a standard CPU? Let's check how many qubits are supported by the backend:"
   ]
  },
  {
   "cell_type": "code",
   "execution_count": 12,
   "metadata": {},
   "outputs": [
    {
     "data": {
      "text/plain": [
       "28"
      ]
     },
     "execution_count": 12,
     "metadata": {},
     "output_type": "execute_result"
    }
   ],
   "source": [
    "Aer.get_backend('qasm_simulator').configuration().n_qubits"
   ]
  },
  {
   "cell_type": "markdown",
   "metadata": {},
   "source": [
    "And how many logical variables does our formula have?"
   ]
  },
  {
   "cell_type": "code",
   "execution_count": 13,
   "metadata": {},
   "outputs": [
    {
     "data": {
      "text/plain": [
       "84"
      ]
     },
     "execution_count": 13,
     "metadata": {},
     "output_type": "execute_result"
    }
   ],
   "source": [
    "len(statement.atoms())"
   ]
  },
  {
   "cell_type": "markdown",
   "metadata": {},
   "source": [
    "## At least some formula solvable by QC simulation"
   ]
  },
  {
   "cell_type": "code",
   "execution_count": 14,
   "metadata": {},
   "outputs": [],
   "source": [
    "def solve_statement(statement):\n",
    "    oracle = PhaseOracle(str(statement))\n",
    "    problem = AmplificationProblem(oracle)\n",
    "    sampler = Sampler()\n",
    "    grover = Grover(sampler=sampler, iterations=1)\n",
    "    result = grover.amplify(problem)\n",
    "    # print(result.iterations, result.circuit_results)\n",
    "    print(result.top_measurement, result.max_probability)\n",
    "    # plot_histogram(result.circuit_results)\n",
    "    \n",
    "    solution = statement\n",
    "    for symb, res in zip(statement.atoms(), result.top_measurement):\n",
    "        val = bool(res)\n",
    "        print(f'{symb} == {val}')\n",
    "        solution = solution.subs(symb, val)\n",
    "    if not solution:\n",
    "        print('ERROR? It seems QC did not find a solution.')\n",
    "    \n",
    "    return oracle, result, solution"
   ]
  },
  {
   "cell_type": "code",
   "execution_count": 15,
   "metadata": {},
   "outputs": [
    {
     "data": {
      "text/latex": [
       "$\\displaystyle \\left(x \\vee \\neg y\\right) \\wedge \\left(y \\vee \\neg z\\right) \\wedge \\left(x \\vee y \\vee z\\right)$"
      ],
      "text/plain": [
       "(x | ~y) & (y | ~z) & (x | y | z)"
      ]
     },
     "execution_count": 15,
     "metadata": {},
     "output_type": "execute_result"
    }
   ],
   "source": [
    "x, y, z = sympy.symbols('x y z')\n",
    "statement = (x | y | z) & (x | ~y) & (y | ~z)\n",
    "statement"
   ]
  },
  {
   "cell_type": "code",
   "execution_count": 16,
   "metadata": {},
   "outputs": [
    {
     "name": "stdout",
     "output_type": "stream",
     "text": [
      "001 0.2812499999999996\n",
      "y == True\n",
      "x == True\n",
      "z == True\n"
     ]
    },
    {
     "name": "stderr",
     "output_type": "stream",
     "text": [
      "/tmp/ipykernel_62767/2085446311.py:4: DeprecationWarning: The class ``qiskit.primitives.sampler.Sampler`` is deprecated as of qiskit 1.2. It will be removed no earlier than 3 months after the release date. All implementations of the `BaseSamplerV1` interface have been deprecated in favor of their V2 counterparts. The V2 alternative for the `Sampler` class is `StatevectorSampler`.\n",
      "  sampler = Sampler()\n"
     ]
    },
    {
     "data": {
      "image/png": "[encoded data removed]",
      "text/plain": [
       "<Figure size 432x288 with 1 Axes>"
      ]
     },
     "execution_count": 16,
     "metadata": {},
     "output_type": "execute_result"
    }
   ],
   "source": [
    "oracle, res, solved = solve_statement(statement)\n",
    "plot_histogram(res.circuit_results)"
   ]
  },
  {
   "cell_type": "code",
   "execution_count": 17,
   "metadata": {},
   "outputs": [
    {
     "data": {
      "text/html": [
       "<pre style=\"word-wrap: normal;white-space: pre;background: #fff0;line-height: 1.1;font-family: &quot;Courier New&quot;,Courier,monospace\">           \n",
       "q_0: ─■──■─\n",
       "      │  │ \n",
       "q_1: ─■──┼─\n",
       "      │  │ \n",
       "q_2: ─■──o─\n",
       "           </pre>"
      ],
      "text/plain": [
       "           \n",
       "q_0: ─■──■─\n",
       "      │  │ \n",
       "q_1: ─■──┼─\n",
       "      │  │ \n",
       "q_2: ─■──o─\n",
       "           "
      ]
     },
     "execution_count": 17,
     "metadata": {},
     "output_type": "execute_result"
    }
   ],
   "source": [
    "# Schema of the quantum circuit\n",
    "oracle.draw()"
   ]
  },
  {
   "cell_type": "markdown",
   "metadata": {},
   "source": [
    "### Bigger formula"
   ]
  },
  {
   "cell_type": "code",
   "execution_count": 18,
   "metadata": {},
   "outputs": [
    {
     "data": {
      "text/latex": [
       "$\\displaystyle \\left(a \\vee \\neg c\\right) \\wedge \\left(b \\vee \\neg e\\right) \\wedge \\left(c \\vee \\neg f\\right) \\wedge \\left(d \\vee \\neg f\\right) \\wedge \\left(a \\vee b \\vee e\\right)$"
      ],
      "text/plain": [
       "(a | ~c) & (b | ~e) & (c | ~f) & (d | ~f) & (a | b | e)"
      ]
     },
     "execution_count": 18,
     "metadata": {},
     "output_type": "execute_result"
    }
   ],
   "source": [
    "a, b, c, d, e, f = sympy.symbols('a b c d e f')\n",
    "statement = (a | b | e) & (a | ~c) & (d | ~f) & (c | ~f) & (b | ~e)\n",
    "statement"
   ]
  },
  {
   "cell_type": "code",
   "execution_count": 19,
   "metadata": {},
   "outputs": [
    {
     "name": "stderr",
     "output_type": "stream",
     "text": [
      "/tmp/ipykernel_62767/2085446311.py:4: DeprecationWarning: The class ``qiskit.primitives.sampler.Sampler`` is deprecated as of qiskit 1.2. It will be removed no earlier than 3 months after the release date. All implementations of the `BaseSamplerV1` interface have been deprecated in favor of their V2 counterparts. The V2 alternative for the `Sampler` class is `StatevectorSampler`.\n",
      "  sampler = Sampler()\n"
     ]
    },
    {
     "name": "stdout",
     "output_type": "stream",
     "text": [
      "110111 0.0513305664062498\n",
      "b == True\n",
      "c == True\n",
      "e == True\n",
      "a == True\n",
      "f == True\n",
      "d == True\n"
     ]
    },
    {
     "data": {
      "image/png": "[encoded data removed]",
      "text/plain": [
       "<Figure size 432x288 with 1 Axes>"
      ]
     },
     "execution_count": 19,
     "metadata": {},
     "output_type": "execute_result"
    }
   ],
   "source": [
    "oracle, res, solved = solve_statement(statement)\n",
    "plot_histogram(res.circuit_results)"
   ]
  },
  {
   "cell_type": "code",
   "execution_count": 20,
   "metadata": {},
   "outputs": [
    {
     "data": {
      "text/html": [
       "<pre style=\"word-wrap: normal;white-space: pre;background: #fff0;line-height: 1.1;font-family: &quot;Courier New&quot;,Courier,monospace\">                                \n",
       "q_0: ─o──o──■──o──o──■──o───────\n",
       "      │  │  │  │  │  │  │       \n",
       "q_1: ─o──┼──┼──┼──o──┼──o──■──■─\n",
       "      │  │  │  │  │  │  │  │  │ \n",
       "q_2: ─■──■──■──┼──o──┼──■──■──┼─\n",
       "      │  │  │  │  │  │  │  │  │ \n",
       "q_3: ─┼──■──■──o──o──o──┼──■──o─\n",
       "      │  │  │  │  │  │  │  │  │ \n",
       "q_4: ─o──■──o──■──■──o──■──■──■─\n",
       "         │     │  │     │  │  │ \n",
       "q_5: ────■─────■──■─────■──■──■─\n",
       "                                </pre>"
      ],
      "text/plain": [
       "                                \n",
       "q_0: ─o──o──■──o──o──■──o───────\n",
       "      │  │  │  │  │  │  │       \n",
       "q_1: ─o──┼──┼──┼──o──┼──o──■──■─\n",
       "      │  │  │  │  │  │  │  │  │ \n",
       "q_2: ─■──■──■──┼──o──┼──■──■──┼─\n",
       "      │  │  │  │  │  │  │  │  │ \n",
       "q_3: ─┼──■──■──o──o──o──┼──■──o─\n",
       "      │  │  │  │  │  │  │  │  │ \n",
       "q_4: ─o──■──o──■──■──o──■──■──■─\n",
       "         │     │  │     │  │  │ \n",
       "q_5: ────■─────■──■─────■──■──■─\n",
       "                                "
      ]
     },
     "execution_count": 20,
     "metadata": {},
     "output_type": "execute_result"
    }
   ],
   "source": [
    "oracle.draw()"
   ]
  },
  {
   "cell_type": "markdown",
   "metadata": {},
   "source": [
    "### Maximal size of QC simulation"
   ]
  },
  {
   "cell_type": "code",
   "execution_count": 21,
   "metadata": {},
   "outputs": [],
   "source": [
    "%%script true\n",
    "\n",
    "size = 25\n",
    "\n",
    "print(f'Checking {size}...')\n",
    "statement = sympy.symbols('x')\n",
    "for i in range(1, size):\n",
    "    statement &= sympy.symbols(f'x{i}')\n",
    "#sympy.logic.satisfiable(statement)\n",
    "oracle, res, solved = solve_statement(statement)"
   ]
  },
  {
   "cell_type": "markdown",
   "metadata": {},
   "source": [
    "29, 28, 27, 26 => Kernel died. (8 GB RAM, 4 CPU threads)\n",
    "\n",
    "25 => That worked."
   ]
  },
  {
   "cell_type": "markdown",
   "metadata": {},
   "source": [
    "## Off-topic: solving Eternity just with SymPy, no QC"
   ]
  },
  {
   "cell_type": "code",
   "execution_count": 22,
   "metadata": {},
   "outputs": [],
   "source": [
    "statement = load_sat()\n",
    "solution = sympy.logic.satisfiable(statement)\n",
    "assert solution\n",
    "with open('sat_result.txt', 'w') as f:\n",
    "    f.writelines(str(key) + '\\n' for key, val in solution.items() if val)"
   ]
  },
  {
   "cell_type": "code",
   "execution_count": 23,
   "metadata": {},
   "outputs": [
    {
     "name": "stdout",
     "output_type": "stream",
     "text": [
      "start Thu Jan 23 09:38:31 2025\r\n",
      "\r\n",
      "ziskani plochy ze SAT reseni... OK\r\n",
      "\r\n",
      "konec Thu Jan 23 09:38:31 2025\r\n",
      "\r\n",
      "trvani 00:00:00\r\n"
     ]
    }
   ],
   "source": [
    "!eternity unsat"
   ]
  },
  {
   "cell_type": "code",
   "execution_count": 24,
   "metadata": {},
   "outputs": [
    {
     "data": {
      "text/markdown": [
       "**Solved**"
      ],
      "text/plain": [
       "<IPython.core.display.Markdown object>"
      ]
     },
     "metadata": {},
     "output_type": "display_data"
    },
    {
     "data": {
      "image/png": "[encoded data removed]",
      "text/plain": [
       "<IPython.core.display.Image object>"
      ]
     },
     "metadata": {},
     "output_type": "display_data"
    }
   ],
   "source": [
    "!display.sh area_sat_result.area area_sat_result2.png\n",
    "display(Markdown('**Solved**'), Image('area_sat_result2.png'))"
   ]
  }
 ],
 "metadata": {
  "kernelspec": {
   "display_name": "Python 3 (ipykernel)",
   "language": "python",
   "name": "python3"
  },
  "language_info": {
   "codemirror_mode": {
    "name": "ipython",
    "version": 3
   },
   "file_extension": ".py",
   "mimetype": "text/x-python",
   "name": "python",
   "nbconvert_exporter": "python",
   "pygments_lexer": "ipython3",
   "version": "3.10.12"
  }
 },
 "nbformat": 4,
 "nbformat_minor": 4
}
